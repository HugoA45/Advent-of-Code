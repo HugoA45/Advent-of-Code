{
 "cells": [
  {
   "cell_type": "markdown",
   "metadata": {},
   "source": [
    "1."
   ]
  },
  {
   "cell_type": "code",
   "execution_count": 41,
   "metadata": {},
   "outputs": [],
   "source": [
    "with open('inputs/1_input.txt') as f:\n",
    "    lines = f.read().splitlines()"
   ]
  },
  {
   "cell_type": "code",
   "execution_count": 42,
   "metadata": {},
   "outputs": [
    {
     "data": {
      "text/plain": [
       "54953"
      ]
     },
     "execution_count": 42,
     "metadata": {},
     "output_type": "execute_result"
    }
   ],
   "source": [
    "output = 0\n",
    "for line in lines:\n",
    "    aux = []\n",
    "    for element in line:\n",
    "        if str(element).isnumeric():\n",
    "            aux.append(int(element))\n",
    "    output += int(str(aux[0])+str(aux[-1]))\n",
    "output"
   ]
  },
  {
   "cell_type": "markdown",
   "metadata": {},
   "source": [
    "1.2"
   ]
  },
  {
   "cell_type": "code",
   "execution_count": 43,
   "metadata": {},
   "outputs": [],
   "source": [
    "a = ['two1nine',\n",
    " 'eightwothree',\n",
    " 'abcone2threexyz',\n",
    " 'xtwone3four',\n",
    " '4nineeightseven2',\n",
    " 'zoneight234',\n",
    " '7pqrstsixteen']"
   ]
  },
  {
   "cell_type": "code",
   "execution_count": 44,
   "metadata": {},
   "outputs": [
    {
     "name": "stdout",
     "output_type": "stream",
     "text": [
      "{'two': 0, 'nine': 4}\n",
      "{'two': 4, 'three': 7, 'eight': 0}\n",
      "{'one': 3, 'three': 7}\n",
      "{'one': 3, 'two': 1, 'four': 7}\n",
      "{'seven': 10, 'eight': 5, 'nine': 1}\n",
      "{'one': 1, 'eight': 3}\n",
      "{'six': 6}\n"
     ]
    }
   ],
   "source": [
    "output = 0\n",
    "dig_dic = { 'one': 1,\n",
    "            'two': 2,\n",
    "            'three': 3,\n",
    "            'four': 4,\n",
    "            'five': 5,\n",
    "            'six': 6,\n",
    "            'seven': 7,\n",
    "            'eight': 8,\n",
    "            'nine': 9}\n",
    "\n",
    "for line in a:\n",
    "    word_dict = {}\n",
    "    \n",
    "    for word in dig_dic.keys():\n",
    "        if word in line:\n",
    "            w_str_index = line.find(word)\n",
    "            w_end_index = w_str_index + len(word) - 1\n",
    "            word_dict[word] = w_str_index\n",
    "    \n",
    "    print(word_dict)\n",
    "    \n",
    "    aux = [int(element) for element in line if element.isnumeric()]\n",
    "    \n",
    "    if aux: \n",
    "        output += int(str(aux[0])+str(aux[-1]))\n",
    "        "
   ]
  },
  {
   "cell_type": "code",
   "execution_count": 45,
   "metadata": {},
   "outputs": [
    {
     "data": {
      "text/plain": [
       "{'six': 6}"
      ]
     },
     "execution_count": 45,
     "metadata": {},
     "output_type": "execute_result"
    }
   ],
   "source": [
    "word_dict"
   ]
  },
  {
   "cell_type": "markdown",
   "metadata": {},
   "source": [
    "2.1"
   ]
  },
  {
   "cell_type": "code",
   "execution_count": 46,
   "metadata": {},
   "outputs": [
    {
     "name": "stdout",
     "output_type": "stream",
     "text": [
      "2505\n"
     ]
    }
   ],
   "source": [
    "with open('inputs/2_input.txt') as f:\n",
    "    lines = f.read().splitlines()\n",
    "    \n",
    "game_dict = {i : [line.split(\": \") for line in lines][i][1].split(\"; \") for i in range(len(lines))}\n",
    "\n",
    "\n",
    "ver_dict = {\n",
    "    'red' : 12,\n",
    "    'green' : 13,\n",
    "    'blue' : 14,\n",
    "}\n",
    "\n",
    "total_sum = 0\n",
    "for key, game_sets in enumerate(game_dict.values(), start=1):\n",
    "    var_sum = 0\n",
    "    for set in game_sets:       \n",
    "        for element in set.split(\", \"):\n",
    "            if int(element.split(\" \")[0]) > ver_dict[element.split(\" \")[1]]:\n",
    "                var_sum += 1\n",
    "    if var_sum == 0:\n",
    "        total_sum += key\n",
    "        \n",
    "print(total_sum)"
   ]
  },
  {
   "cell_type": "markdown",
   "metadata": {},
   "source": [
    "2.2"
   ]
  },
  {
   "cell_type": "code",
   "execution_count": 47,
   "metadata": {},
   "outputs": [
    {
     "data": {
      "text/plain": [
       "70265"
      ]
     },
     "execution_count": 47,
     "metadata": {},
     "output_type": "execute_result"
    }
   ],
   "source": [
    "color_dic = {}\n",
    "for key, game_sets in enumerate(game_dict.values(), start=1):\n",
    "    max_red = 0\n",
    "    max_blue = 0\n",
    "    max_green = 0\n",
    "    for set in game_sets:       \n",
    "        for element in set.split(\", \"):\n",
    "            if element.split(\" \")[1] == 'red' and int(element.split(\" \")[0])> max_red:\n",
    "                max_red = int(element.split(\" \")[0])\n",
    "            if element.split(\" \")[1] == 'blue' and int(element.split(\" \")[0])> max_blue:\n",
    "                max_blue = int(element.split(\" \")[0])\n",
    "            if element.split(\" \")[1] == 'green' and int(element.split(\" \")[0])> max_green:\n",
    "                max_green = int(element.split(\" \")[0])\n",
    "    color_dic[key] = [max_red, max_green, max_blue]\n",
    "\n",
    "power = {key:color_dic[key][0]*color_dic[key][1]*color_dic[key][2] for key in color_dic.keys()}\n",
    "sum(power.values())"
   ]
  },
  {
   "cell_type": "markdown",
   "metadata": {},
   "source": [
    "3.1"
   ]
  },
  {
   "cell_type": "code",
   "execution_count": 48,
   "metadata": {},
   "outputs": [],
   "source": [
    "import string\n",
    "\n",
    "symbols = {char for char in string.printable if not (char.isalpha() or char.isdigit())}\n",
    "\n",
    "with open('inputs/3_example.txt') as f:\n",
    "    lines = f.read().splitlines()"
   ]
  },
  {
   "cell_type": "code",
   "execution_count": 49,
   "metadata": {},
   "outputs": [
    {
     "ename": "TypeError",
     "evalue": "'str' object is not callable",
     "output_type": "error",
     "traceback": [
      "\u001b[1;31m---------------------------------------------------------------------------\u001b[0m",
      "\u001b[1;31mTypeError\u001b[0m                                 Traceback (most recent call last)",
      "Cell \u001b[1;32mIn[49], line 1\u001b[0m\n\u001b[1;32m----> 1\u001b[0m numeric_coord \u001b[38;5;241m=\u001b[39m \u001b[38;5;28;43mset\u001b[39;49m\u001b[43m(\u001b[49m\u001b[43m)\u001b[49m\n\u001b[0;32m      2\u001b[0m numeric_elements \u001b[38;5;241m=\u001b[39m []\n\u001b[0;32m      3\u001b[0m \u001b[38;5;28;01mfor\u001b[39;00m line_id, line \u001b[38;5;129;01min\u001b[39;00m \u001b[38;5;28menumerate\u001b[39m(lines):\n",
      "\u001b[1;31mTypeError\u001b[0m: 'str' object is not callable"
     ]
    }
   ],
   "source": [
    "numeric_coord = set()\n",
    "numeric_elements = []\n",
    "for line_id, line in enumerate(lines):\n",
    "    for col_id, element in enumerate(line):\n",
    "        if element != '.' and element in symbols:\n",
    "            for i in range(-1,2):\n",
    "                for j in range(-1,2):\n",
    "                    if i == 0 and j == 0:\n",
    "                        continue\n",
    "                    if 0 <= line_id+i < len(lines) and \\\n",
    "                        0 <= col_id+j < len(lines[line_id+i]):\n",
    "                        if lines[line_id+i][col_id+j].isnumeric():\n",
    "                            numeric_coord.add((line_id+i, col_id+j))\n",
    "\n",
    "for element in numeric_coord.copy():\n",
    "    y, x = element\n",
    "    i = 1\n",
    "    while (lines[y][x-i].isnumeric() or lines[y][x-i] == '-') and x-i >= 0 and (y,x-i) not in numeric_coord:\n",
    "        numeric_coord.add((y,x-i))\n",
    "        i += 1\n",
    "    i = 1\n",
    "    while lines[y][x+i].isnumeric() and x+i < len(lines[y])-1 and (y,x+i) not in numeric_coord:\n",
    "        numeric_coord.add((y,x+i))\n",
    "        i += 1"
   ]
  },
  {
   "cell_type": "code",
   "execution_count": null,
   "metadata": {},
   "outputs": [],
   "source": [
    "numeric_coord = sorted(list(numeric_coord))\n",
    "groups = []\n",
    "current_group = [numeric_coord[0]]\n",
    "\n",
    "for coord in numeric_coord[1:]:\n",
    "    if coord[0] == current_group[-1][0] and coord[1] == current_group[-1][1] + 1:\n",
    "        current_group.append(coord)\n",
    "    else:\n",
    "        groups.append(current_group)\n",
    "        current_group = [coord]\n",
    "\n",
    "groups.append(current_group)\n",
    "\n",
    "numeric_elements = []\n",
    "for group in groups:\n",
    "    number = ''.join(lines[y][x] for y, x in group)\n",
    "    numeric_elements.append(int(number))\n",
    "    \n",
    "sum(numeric_elements)"
   ]
  },
  {
   "cell_type": "markdown",
   "metadata": {},
   "source": [
    "4.1"
   ]
  },
  {
   "cell_type": "code",
   "execution_count": null,
   "metadata": {},
   "outputs": [],
   "source": [
    "with open('inputs/4_example.txt') as f:\n",
    "    lines = f.read().splitlines()"
   ]
  },
  {
   "cell_type": "code",
   "execution_count": null,
   "metadata": {},
   "outputs": [],
   "source": [
    "total_score = 0\n",
    "for line in lines:\n",
    "    game_index = line.split(\": \")[0].split(\" \")[1]\n",
    "    targets = line.split(\": \")[1].split(\" | \")[0]\n",
    "    bets = line.split(\": \")[1].split(\" | \")[1]\n",
    "    n_inter = len(list(set(bets.split()).intersection(set(targets.split()))))\n",
    "    \n",
    "    if n_inter == 0:\n",
    "        score = 0\n",
    "    if n_inter == 1:\n",
    "        score = 1\n",
    "    if n_inter > 1:\n",
    "        score = 2**(n_inter-1)\n",
    "        \n",
    "    total_score += score\n",
    "    total_score"
   ]
  },
  {
   "cell_type": "code",
   "execution_count": null,
   "metadata": {},
   "outputs": [],
   "source": [
    "total_score"
   ]
  },
  {
   "cell_type": "markdown",
   "metadata": {},
   "source": [
    "4.2"
   ]
  },
  {
   "cell_type": "code",
   "execution_count": null,
   "metadata": {},
   "outputs": [],
   "source": [
    "with open('inputs/4_input.txt') as f:\n",
    "    lines = f.read().splitlines()\n",
    "\n",
    "def card_evaluator(lines, game_id):\n",
    "    line = lines[game_id]\n",
    "    targets = line.split(\": \")[1].split(\" | \")[0]\n",
    "    bets = line.split(\": \")[1].split(\" | \")[1]\n",
    "    n_inter = len(list(set(bets.split()).intersection(set(targets.split()))))\n",
    "    \n",
    "    if n_inter != 0:\n",
    "        return n_inter\n",
    "    else: \n",
    "        return 0   \n",
    "\n",
    "def process_card(lines, idx, total_dic):\n",
    "    n_copies = card_evaluator(lines, idx)\n",
    "    \n",
    "    if n_copies > 0:\n",
    "        for i in range(idx+1, min(idx+n_copies+1, len(lines))):\n",
    "            total_dic[i] += 1\n",
    "            process_card(lines, i, total_dic) \n",
    "\n",
    "total_dic =  {i: 1 for i in range(len(lines))}\n",
    "\n",
    "for idx, line in enumerate(lines):\n",
    "    process_card(lines, idx, total_dic)\n",
    "\n",
    "total_scratchcards = sum(total_dic.values())"
   ]
  },
  {
   "cell_type": "code",
   "execution_count": null,
   "metadata": {},
   "outputs": [],
   "source": [
    "total_scratchcards"
   ]
  },
  {
   "cell_type": "markdown",
   "metadata": {},
   "source": [
    "5.1 - Working"
   ]
  },
  {
   "cell_type": "code",
   "execution_count": null,
   "metadata": {},
   "outputs": [],
   "source": [
    "with open('inputs/5_input.txt') as f:\n",
    "    lines = f.read().splitlines()"
   ]
  },
  {
   "cell_type": "code",
   "execution_count": null,
   "metadata": {},
   "outputs": [],
   "source": [
    "def group_interp(group_line, lines, seed):\n",
    "    \n",
    "    res = seed\n",
    "    \n",
    "    while lines[group_line] != \"\" and group_line < len(lines)-1:\n",
    "        seed = int(seed)\n",
    "        line = lines[group_line]\n",
    "        split_line = [int(i) for i in line.split(\" \")]\n",
    "        \n",
    "        if seed in range(split_line[1], split_line[1] + split_line[2]):\n",
    "            seed_diff = split_line[1] - split_line[0]\n",
    "            res = seed - seed_diff \n",
    "            \n",
    "        group_line += 1 \n",
    "    \n",
    "    return res"
   ]
  },
  {
   "cell_type": "code",
   "execution_count": null,
   "metadata": {},
   "outputs": [],
   "source": [
    "seed_dic = {}\n",
    "\n",
    "maps_list = [   'seed-to-soil map:', \n",
    "                'soil-to-fertilizer map:', \n",
    "                'fertilizer-to-water map:',  \n",
    "                'water-to-light map:', \n",
    "                'light-to-temperature map:', \n",
    "                'temperature-to-humidity map:', \n",
    "                'humidity-to-location map:']\n",
    "\n",
    "seeds = lines[0].split(\" \")[1:]\n",
    "    \n",
    "for seed in seeds:\n",
    "    next = group_interp(lines.index(maps_list[0]) +1 , lines, seed)\n",
    "    \n",
    "    for group in maps_list[1:]:\n",
    "        group_line_idx = lines.index(group) + 1\n",
    "        next = group_interp(group_line_idx, lines, next)\n",
    "        \n",
    "    seed_dic[seed] = next"
   ]
  },
  {
   "cell_type": "code",
   "execution_count": null,
   "metadata": {},
   "outputs": [],
   "source": [
    "min(seed_dic.values())"
   ]
  },
  {
   "cell_type": "markdown",
   "metadata": {},
   "source": [
    "5.2 - TOO SLOW"
   ]
  },
  {
   "cell_type": "code",
   "execution_count": null,
   "metadata": {},
   "outputs": [],
   "source": [
    "seed_dic = {}\n",
    "seeds = []\n",
    "\n",
    "maps_list = [   'seed-to-soil map:', \n",
    "                'soil-to-fertilizer map:', \n",
    "                'fertilizer-to-water map:',  \n",
    "                'water-to-light map:', \n",
    "                'light-to-temperature map:', \n",
    "                'temperature-to-humidity map:', \n",
    "                'humidity-to-location map:']\n",
    "\n",
    "for seed, seed_range in zip(lines[0].split(\" \")[1::2], lines[0].split(\" \")[2::2]):\n",
    "    seeds.append(range(int(seed), int(seed) + int(seed_range)))\n",
    "\n",
    "for seed_range in seeds:\n",
    "    for seed in seed_range:\n",
    "        next = group_interp(lines.index(maps_list[0]) +1 , lines, seed)\n",
    "    \n",
    "        for group in maps_list[1:]:\n",
    "            group_line_idx = lines.index(group) + 1\n",
    "            next = group_interp(group_line_idx, lines, next)\n",
    "            \n",
    "        seed_dic[seed] = next"
   ]
  },
  {
   "cell_type": "code",
   "execution_count": null,
   "metadata": {},
   "outputs": [],
   "source": [
    "min(seed_dic.values())"
   ]
  },
  {
   "cell_type": "code",
   "execution_count": null,
   "metadata": {},
   "outputs": [],
   "source": [
    "def group_interp(group_line, lines, seed):\n",
    "    \n",
    "    res = seed\n",
    "    \n",
    "    while lines[group_line] != \"\" and group_line < len(lines)-1:\n",
    "        seed = int(seed)\n",
    "        line = lines[group_line]\n",
    "        split_line = [int(i) for i in line.split(\" \")]\n",
    "        \n",
    "        if split_line[1] <= seed < split_line[1] + split_line[2]:\n",
    "            seed_diff = split_line[1] - split_line[0]\n",
    "            res = seed - seed_diff \n",
    "            \n",
    "        group_line += 1 \n",
    "    \n",
    "    return res"
   ]
  },
  {
   "cell_type": "markdown",
   "metadata": {},
   "source": [
    "6.1 - Working"
   ]
  },
  {
   "cell_type": "code",
   "execution_count": null,
   "metadata": {},
   "outputs": [],
   "source": [
    "with open('inputs/6_input.txt') as f:\n",
    "    lines = f.read().splitlines()"
   ]
  },
  {
   "cell_type": "code",
   "execution_count": null,
   "metadata": {},
   "outputs": [],
   "source": [
    "def product_of_list(lst):\n",
    "    product = 1\n",
    "    for num in lst:\n",
    "        product *= num\n",
    "    return product"
   ]
  },
  {
   "cell_type": "code",
   "execution_count": null,
   "metadata": {},
   "outputs": [],
   "source": [
    "times = lines[0].split(\":\")[1].split()\n",
    "distances = lines[1].split(\":\")[1].split()\n",
    "\n",
    "total_wins = []\n",
    "for time, distance in zip(times,distances):\n",
    "    n_wins = 0\n",
    "    for i in range(1,int(time)+1):\n",
    "        delta_t = int(time) - i\n",
    "        how_far = delta_t * i\n",
    "        if how_far > int(distance):\n",
    "            n_wins += 1\n",
    "    total_wins.append(n_wins)\n",
    "        "
   ]
  },
  {
   "cell_type": "code",
   "execution_count": null,
   "metadata": {},
   "outputs": [],
   "source": [
    "res = product_of_list(total_wins)\n",
    "res"
   ]
  },
  {
   "cell_type": "markdown",
   "metadata": {},
   "source": [
    "6.2"
   ]
  },
  {
   "cell_type": "code",
   "execution_count": null,
   "metadata": {},
   "outputs": [],
   "source": [
    "with open('inputs/6_input.txt') as f:\n",
    "    lines = f.read().splitlines()\n",
    "    \n",
    "time = lines[0].split(\":\")[1].replace(\" \",\"\")\n",
    "distance = lines[1].split(\":\")[1].replace(\" \",\"\")"
   ]
  },
  {
   "cell_type": "markdown",
   "metadata": {},
   "source": [
    "eq: x(time-x) > distance => roots"
   ]
  },
  {
   "cell_type": "code",
   "execution_count": null,
   "metadata": {},
   "outputs": [],
   "source": [
    "root1 = 43034087\n",
    "root2 = 4813380\n",
    "\n",
    "total_wins = root1 - root2 + 1\n",
    "total_wins"
   ]
  },
  {
   "cell_type": "markdown",
   "metadata": {},
   "source": [
    "7.1 - done"
   ]
  },
  {
   "cell_type": "code",
   "execution_count": null,
   "metadata": {},
   "outputs": [],
   "source": [
    "def card_value(card, card_type):\n",
    "    \n",
    "    if card in card_type:\n",
    "        return card_type[card]\n",
    "    else:\n",
    "        return int(card)"
   ]
  },
  {
   "cell_type": "code",
   "execution_count": null,
   "metadata": {},
   "outputs": [],
   "source": [
    "with open('inputs/7_input.txt') as f:\n",
    "    lines = f.read().splitlines()\n",
    "\n",
    "card_type = {   \n",
    "        'T' : 10,\n",
    "        'J' : 11,\n",
    "        'Q' : 12,\n",
    "        'K' : 13,\n",
    "        'A' : 14\n",
    "    }\n",
    "   \n",
    "res_dic = {}\n",
    "\n",
    "for idx, line in enumerate(lines):\n",
    "    hand, bid = line.split(\" \")\n",
    "    bid = int(bid)\n",
    "    counts = {element: hand.count(element) for element in set(hand)}\n",
    "    if 5 in counts.values():\n",
    "        kind = 5\n",
    "    elif 4 in counts.values():\n",
    "        kind = 4\n",
    "    elif 3 in counts.values() and 2 in counts.values():\n",
    "        kind = 3.2\n",
    "    elif 3 in counts.values():\n",
    "        kind = 3\n",
    "    elif list(counts.values()).count(2) == 2:\n",
    "        kind = 2.2\n",
    "    elif 2 in counts.values():\n",
    "        kind = 2\n",
    "    else:\n",
    "        kind = 1\n",
    "    \n",
    "    res_dic[idx+1] = (kind, hand, bid)\n",
    "    \n",
    "sorted_items = sorted(res_dic.items(), key=lambda item: (item[1][0], \n",
    "                                                         card_value(item[1][1][0], card_type), \n",
    "                                                         card_value(item[1][1][1], card_type),\n",
    "                                                         card_value(item[1][1][2], card_type),\n",
    "                                                         card_value(item[1][1][3], card_type),\n",
    "                                                         card_value(item[1][1][4], card_type)), reverse=True)\n",
    "\n",
    "res_dic = {len(sorted_items) - idx: v for idx, (k, v) in enumerate(sorted_items)}\n",
    "\n",
    "score = 0\n",
    "for key, value in res_dic.items():\n",
    "    score +=  key * value[2]\n",
    "\n",
    "score"
   ]
  },
  {
   "cell_type": "markdown",
   "metadata": {},
   "source": [
    "8.1 - done"
   ]
  },
  {
   "cell_type": "code",
   "execution_count": 5,
   "metadata": {},
   "outputs": [],
   "source": [
    "with open('inputs/8_input.txt') as f:\n",
    "    lines = f.read().splitlines()\n",
    "    \n",
    "del lines[1]\n",
    "\n",
    "mapping = {'L': '0', 'R': '1'}\n",
    "\n",
    "instruction = ''.join(mapping[char] for char in lines[0])\n",
    "\n",
    "del lines[0]\n",
    "\n",
    "map_dic = {}\n",
    "starter_dic = {}\n",
    "for line in lines:\n",
    "    node = str(line.split(\" = \")[0])\n",
    "    coord = line.split(\" = \")[1].strip(\"()\").split(\", \")\n",
    "    map_dic[node] = coord \n",
    "    if node[-1] == 'A':\n",
    "        starter_dic[node] = coord "
   ]
  },
  {
   "cell_type": "code",
   "execution_count": 6,
   "metadata": {},
   "outputs": [
    {
     "data": {
      "text/plain": [
       "16697"
      ]
     },
     "execution_count": 6,
     "metadata": {},
     "output_type": "execute_result"
    }
   ],
   "source": [
    "pos = 'AAA'\n",
    "step = ''\n",
    "i = 0\n",
    "while True:\n",
    "    step = instruction[i % len(instruction)]\n",
    "    pos = map_dic[pos][int(step)]\n",
    "    i += 1\n",
    "    if pos == 'ZZZ': break\n",
    "count = i\n",
    "count\n",
    "    "
   ]
  },
  {
   "cell_type": "markdown",
   "metadata": {},
   "source": [
    "8.2"
   ]
  },
  {
   "cell_type": "code",
   "execution_count": 54,
   "metadata": {},
   "outputs": [
    {
     "name": "stdout",
     "output_type": "stream",
     "text": [
      "0 ['11B', '22B']\n",
      "1 ['11Z', '22C']\n",
      "2 ['11B', '22Z']\n",
      "3 ['11Z', '22B']\n",
      "4 ['11B', '22C']\n",
      "5 ['11Z', '22Z']\n"
     ]
    },
    {
     "data": {
      "text/plain": [
       "6"
      ]
     },
     "execution_count": 54,
     "metadata": {},
     "output_type": "execute_result"
    }
   ],
   "source": [
    "map_dic = {}\n",
    "starter_dic = {}\n",
    "for line in lines:\n",
    "    node = str(line.split(\" = \")[0])\n",
    "    coord = line.split(\" = \")[1].strip(\"()\").split(\", \")\n",
    "    map_dic[node] = coord \n",
    "    if node[-1] == 'A':\n",
    "        starter_dic[node] = coord \n",
    "        \n",
    "i = 0\n",
    "while True:\n",
    "    step = instruction[i % len(instruction)]\n",
    "    step_answer = []\n",
    "    for k, v in starter_dic.items():\n",
    "        step_answer.append(starter_dic[k][int(step)])\n",
    "        starter_dic[k] = map_dic[starter_dic[k][int(step)]]\n",
    "        \n",
    "    print(i, step_answer)\n",
    "    i += 1\n",
    "    if all(v[-1] =='Z' for v in step_answer):\n",
    "        break\n",
    "count = i\n",
    "count"
   ]
  },
  {
   "cell_type": "code",
   "execution_count": 5,
   "metadata": {},
   "outputs": [],
   "source": [
    "def run_path(node, positions_dic, i, i_target, iter_dic):\n",
    "    while True:\n",
    "        step = instruction[i % len(instruction)]\n",
    "        step_answer = positions_dic[node][int(step)]\n",
    "        positions_dic[node] = map_dic[step_answer]         \n",
    "        if step_answer[-1] == 'Z':\n",
    "            if i>=i_target:\n",
    "                i_target = i\n",
    "                iter_dic[node] = i\n",
    "                break\n",
    "        i=i+1\n",
    "    return positions_dic, i_target, iter_dic"
   ]
  },
  {
   "cell_type": "code",
   "execution_count": 7,
   "metadata": {},
   "outputs": [
    {
     "ename": "KeyError",
     "evalue": "'XXX'",
     "output_type": "error",
     "traceback": [
      "\u001b[1;31m---------------------------------------------------------------------------\u001b[0m",
      "\u001b[1;31mKeyError\u001b[0m                                  Traceback (most recent call last)",
      "Cell \u001b[1;32mIn[7], line 18\u001b[0m\n\u001b[0;32m     14\u001b[0m positions_dic \u001b[38;5;241m=\u001b[39m starter_dic\u001b[38;5;241m.\u001b[39mcopy() \n\u001b[0;32m     15\u001b[0m iter_dic \u001b[38;5;241m=\u001b[39m {}\n\u001b[1;32m---> 18\u001b[0m \u001b[43mrun_path\u001b[49m\u001b[43m(\u001b[49m\u001b[43mnode\u001b[49m\u001b[43m,\u001b[49m\u001b[43m \u001b[49m\u001b[43mpositions_dic\u001b[49m\u001b[43m,\u001b[49m\u001b[43m \u001b[49m\u001b[43mi\u001b[49m\u001b[43m,\u001b[49m\u001b[43m \u001b[49m\u001b[43mi_target\u001b[49m\u001b[43m,\u001b[49m\u001b[43m \u001b[49m\u001b[43miter_dic\u001b[49m\u001b[43m)\u001b[49m\n",
      "Cell \u001b[1;32mIn[5], line 4\u001b[0m, in \u001b[0;36mrun_path\u001b[1;34m(node, positions_dic, i, i_target, iter_dic)\u001b[0m\n\u001b[0;32m      2\u001b[0m \u001b[38;5;28;01mwhile\u001b[39;00m \u001b[38;5;28;01mTrue\u001b[39;00m:\n\u001b[0;32m      3\u001b[0m     step \u001b[38;5;241m=\u001b[39m instruction[i \u001b[38;5;241m%\u001b[39m \u001b[38;5;28mlen\u001b[39m(instruction)]\n\u001b[1;32m----> 4\u001b[0m     step_answer \u001b[38;5;241m=\u001b[39m \u001b[43mpositions_dic\u001b[49m\u001b[43m[\u001b[49m\u001b[43mnode\u001b[49m\u001b[43m]\u001b[49m[\u001b[38;5;28mint\u001b[39m(step)]\n\u001b[0;32m      5\u001b[0m     positions_dic[node] \u001b[38;5;241m=\u001b[39m map_dic[step_answer]         \n\u001b[0;32m      6\u001b[0m     \u001b[38;5;28;01mif\u001b[39;00m step_answer[\u001b[38;5;241m-\u001b[39m\u001b[38;5;241m1\u001b[39m] \u001b[38;5;241m==\u001b[39m \u001b[38;5;124m'\u001b[39m\u001b[38;5;124mZ\u001b[39m\u001b[38;5;124m'\u001b[39m:\n",
      "\u001b[1;31mKeyError\u001b[0m: 'XXX'"
     ]
    }
   ],
   "source": [
    "map_dic = {}\n",
    "starter_dic = {}\n",
    "for line in lines:\n",
    "    node = str(line.split(\" = \")[0])\n",
    "    coord = line.split(\" = \")[1].strip(\"()\").split(\", \")\n",
    "    map_dic[node] = coord \n",
    "    if node[-1] == 'A':\n",
    "        starter_dic[node] = coord \n",
    "\n",
    "i = 0\n",
    "i_target = 0\n",
    "first_node = True\n",
    "nodes = list(starter_dic.keys())\n",
    "positions_dic = starter_dic.copy() \n",
    "iter_dic = {}\n",
    "\n",
    "\n",
    "run_path(node, positions_dic, i, i_target, iter_dic)\n",
    "\n"
   ]
  },
  {
   "cell_type": "code",
   "execution_count": null,
   "metadata": {},
   "outputs": [],
   "source": []
  }
 ],
 "metadata": {
  "kernelspec": {
   "display_name": "Python 3",
   "language": "python",
   "name": "python3"
  },
  "language_info": {
   "codemirror_mode": {
    "name": "ipython",
    "version": 3
   },
   "file_extension": ".py",
   "mimetype": "text/x-python",
   "name": "python",
   "nbconvert_exporter": "python",
   "pygments_lexer": "ipython3",
   "version": "3.11.7"
  }
 },
 "nbformat": 4,
 "nbformat_minor": 2
}

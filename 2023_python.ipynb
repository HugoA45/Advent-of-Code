{
 "cells": [
  {
   "cell_type": "markdown",
   "metadata": {},
   "source": [
    "1."
   ]
  },
  {
   "cell_type": "code",
   "execution_count": null,
   "metadata": {},
   "outputs": [],
   "source": [
    "with open('inputs/1_input.txt') as f:\n",
    "    lines = f.read().splitlines()"
   ]
  },
  {
   "cell_type": "code",
   "execution_count": null,
   "metadata": {},
   "outputs": [],
   "source": [
    "output = 0\n",
    "for line in lines:\n",
    "    aux = []\n",
    "    for element in line:\n",
    "        if str(element).isnumeric():\n",
    "            aux.append(int(element))\n",
    "    output += int(str(aux[0])+str(aux[-1]))\n",
    "output"
   ]
  },
  {
   "cell_type": "markdown",
   "metadata": {},
   "source": [
    "1.2"
   ]
  },
  {
   "cell_type": "code",
   "execution_count": null,
   "metadata": {},
   "outputs": [],
   "source": [
    "a = ['two1nine',\n",
    " 'eightwothree',\n",
    " 'abcone2threexyz',\n",
    " 'xtwone3four',\n",
    " '4nineeightseven2',\n",
    " 'zoneight234',\n",
    " '7pqrstsixteen']"
   ]
  },
  {
   "cell_type": "code",
   "execution_count": null,
   "metadata": {},
   "outputs": [],
   "source": [
    "output = 0\n",
    "dig_dic = { 'one': 1,\n",
    "            'two': 2,\n",
    "            'three': 3,\n",
    "            'four': 4,\n",
    "            'five': 5,\n",
    "            'six': 6,\n",
    "            'seven': 7,\n",
    "            'eight': 8,\n",
    "            'nine': 9}\n",
    "\n",
    "for line in a:\n",
    "    word_dict = {}\n",
    "    \n",
    "    for word in dig_dic.keys():\n",
    "        if word in line:\n",
    "            w_str_index = line.find(word)\n",
    "            w_end_index = w_str_index + len(word) - 1\n",
    "            word_dict[word] = w_str_index\n",
    "    \n",
    "    print(word_dict)\n",
    "    \n",
    "    aux = [int(element) for element in line if element.isnumeric()]\n",
    "    \n",
    "    if aux: \n",
    "        output += int(str(aux[0])+str(aux[-1]))\n",
    "        "
   ]
  },
  {
   "cell_type": "code",
   "execution_count": null,
   "metadata": {},
   "outputs": [],
   "source": [
    "word_dict"
   ]
  },
  {
   "cell_type": "markdown",
   "metadata": {},
   "source": [
    "2.1"
   ]
  },
  {
   "cell_type": "code",
   "execution_count": null,
   "metadata": {},
   "outputs": [],
   "source": [
    "with open('inputs/2_input.txt') as f:\n",
    "    lines = f.read().splitlines()\n",
    "    \n",
    "game_dict = {i : [line.split(\": \") for line in lines][i][1].split(\"; \") for i in range(len(lines))}\n",
    "\n",
    "\n",
    "ver_dict = {\n",
    "    'red' : 12,\n",
    "    'green' : 13,\n",
    "    'blue' : 14,\n",
    "}\n",
    "\n",
    "total_sum = 0\n",
    "for key, game_sets in enumerate(game_dict.values(), start=1):\n",
    "    var_sum = 0\n",
    "    for set in game_sets:       \n",
    "        for element in set.split(\", \"):\n",
    "            if int(element.split(\" \")[0]) > ver_dict[element.split(\" \")[1]]:\n",
    "                var_sum += 1\n",
    "    if var_sum == 0:\n",
    "        total_sum += key\n",
    "        \n",
    "print(total_sum)"
   ]
  },
  {
   "cell_type": "markdown",
   "metadata": {},
   "source": [
    "2.2"
   ]
  },
  {
   "cell_type": "code",
   "execution_count": null,
   "metadata": {},
   "outputs": [],
   "source": [
    "color_dic = {}\n",
    "for key, game_sets in enumerate(game_dict.values(), start=1):\n",
    "    max_red = 0\n",
    "    max_blue = 0\n",
    "    max_green = 0\n",
    "    for set in game_sets:       \n",
    "        for element in set.split(\", \"):\n",
    "            if element.split(\" \")[1] == 'red' and int(element.split(\" \")[0])> max_red:\n",
    "                max_red = int(element.split(\" \")[0])\n",
    "            if element.split(\" \")[1] == 'blue' and int(element.split(\" \")[0])> max_blue:\n",
    "                max_blue = int(element.split(\" \")[0])\n",
    "            if element.split(\" \")[1] == 'green' and int(element.split(\" \")[0])> max_green:\n",
    "                max_green = int(element.split(\" \")[0])\n",
    "    color_dic[key] = [max_red, max_green, max_blue]\n",
    "\n",
    "power = {key:color_dic[key][0]*color_dic[key][1]*color_dic[key][2] for key in color_dic.keys()}\n",
    "sum(power.values())"
   ]
  },
  {
   "cell_type": "markdown",
   "metadata": {},
   "source": [
    "3.1"
   ]
  },
  {
   "cell_type": "code",
   "execution_count": null,
   "metadata": {},
   "outputs": [],
   "source": [
    "import string\n",
    "\n",
    "symbols = {char for char in string.printable if not (char.isalpha() or char.isdigit())}\n",
    "\n",
    "with open('inputs/3_example.txt') as f:\n",
    "    lines = f.read().splitlines()"
   ]
  },
  {
   "cell_type": "code",
   "execution_count": null,
   "metadata": {},
   "outputs": [],
   "source": [
    "numeric_coord = set()\n",
    "numeric_elements = []\n",
    "for line_id, line in enumerate(lines):\n",
    "    for col_id, element in enumerate(line):\n",
    "        if element != '.' and element in symbols:\n",
    "            for i in range(-1,2):\n",
    "                for j in range(-1,2):\n",
    "                    if i == 0 and j == 0:\n",
    "                        continue\n",
    "                    if 0 <= line_id+i < len(lines) and \\\n",
    "                        0 <= col_id+j < len(lines[line_id+i]):\n",
    "                        if lines[line_id+i][col_id+j].isnumeric():\n",
    "                            numeric_coord.add((line_id+i, col_id+j))\n",
    "\n",
    "for element in numeric_coord.copy():\n",
    "    y, x = element\n",
    "    i = 1\n",
    "    while (lines[y][x-i].isnumeric() or lines[y][x-i] == '-') and x-i >= 0 and (y,x-i) not in numeric_coord:\n",
    "        numeric_coord.add((y,x-i))\n",
    "        i += 1\n",
    "    i = 1\n",
    "    while lines[y][x+i].isnumeric() and x+i < len(lines[y])-1 and (y,x+i) not in numeric_coord:\n",
    "        numeric_coord.add((y,x+i))\n",
    "        i += 1"
   ]
  },
  {
   "cell_type": "code",
   "execution_count": null,
   "metadata": {},
   "outputs": [],
   "source": [
    "numeric_coord = sorted(list(numeric_coord))\n",
    "groups = []\n",
    "current_group = [numeric_coord[0]]\n",
    "\n",
    "for coord in numeric_coord[1:]:\n",
    "    if coord[0] == current_group[-1][0] and coord[1] == current_group[-1][1] + 1:\n",
    "        current_group.append(coord)\n",
    "    else:\n",
    "        groups.append(current_group)\n",
    "        current_group = [coord]\n",
    "\n",
    "groups.append(current_group)\n",
    "\n",
    "numeric_elements = []\n",
    "for group in groups:\n",
    "    number = ''.join(lines[y][x] for y, x in group)\n",
    "    numeric_elements.append(int(number))\n",
    "    \n",
    "sum(numeric_elements)"
   ]
  },
  {
   "cell_type": "markdown",
   "metadata": {},
   "source": [
    "4.1"
   ]
  },
  {
   "cell_type": "code",
   "execution_count": null,
   "metadata": {},
   "outputs": [],
   "source": [
    "with open('inputs/4_example.txt') as f:\n",
    "    lines = f.read().splitlines()"
   ]
  },
  {
   "cell_type": "code",
   "execution_count": null,
   "metadata": {},
   "outputs": [],
   "source": [
    "total_score = 0\n",
    "for line in lines:\n",
    "    game_index = line.split(\": \")[0].split(\" \")[1]\n",
    "    targets = line.split(\": \")[1].split(\" | \")[0]\n",
    "    bets = line.split(\": \")[1].split(\" | \")[1]\n",
    "    n_inter = len(list(set(bets.split()).intersection(set(targets.split()))))\n",
    "    \n",
    "    if n_inter == 0:\n",
    "        score = 0\n",
    "    if n_inter == 1:\n",
    "        score = 1\n",
    "    if n_inter > 1:\n",
    "        score = 2**(n_inter-1)\n",
    "        \n",
    "    total_score += score\n",
    "    total_score"
   ]
  },
  {
   "cell_type": "code",
   "execution_count": null,
   "metadata": {},
   "outputs": [],
   "source": [
    "total_score"
   ]
  },
  {
   "cell_type": "markdown",
   "metadata": {},
   "source": [
    "4.2"
   ]
  },
  {
   "cell_type": "code",
   "execution_count": null,
   "metadata": {},
   "outputs": [],
   "source": [
    "with open('inputs/4_input.txt') as f:\n",
    "    lines = f.read().splitlines()\n",
    "\n",
    "def card_evaluator(lines, game_id):\n",
    "    line = lines[game_id]\n",
    "    targets = line.split(\": \")[1].split(\" | \")[0]\n",
    "    bets = line.split(\": \")[1].split(\" | \")[1]\n",
    "    n_inter = len(list(set(bets.split()).intersection(set(targets.split()))))\n",
    "    \n",
    "    if n_inter != 0:\n",
    "        return n_inter\n",
    "    else: \n",
    "        return 0   \n",
    "\n",
    "def process_card(lines, idx, total_dic):\n",
    "    n_copies = card_evaluator(lines, idx)\n",
    "    \n",
    "    if n_copies > 0:\n",
    "        for i in range(idx+1, min(idx+n_copies+1, len(lines))):\n",
    "            total_dic[i] += 1\n",
    "            process_card(lines, i, total_dic) \n",
    "\n",
    "total_dic =  {i: 1 for i in range(len(lines))}\n",
    "\n",
    "for idx, line in enumerate(lines):\n",
    "    process_card(lines, idx, total_dic)\n",
    "\n",
    "total_scratchcards = sum(total_dic.values())"
   ]
  },
  {
   "cell_type": "code",
   "execution_count": null,
   "metadata": {},
   "outputs": [],
   "source": [
    "total_scratchcards"
   ]
  },
  {
   "cell_type": "markdown",
   "metadata": {},
   "source": [
    "5.1 - Working"
   ]
  },
  {
   "cell_type": "code",
   "execution_count": 34,
   "metadata": {},
   "outputs": [],
   "source": [
    "with open('inputs/5_input.txt') as f:\n",
    "    lines = f.read().splitlines()"
   ]
  },
  {
   "cell_type": "code",
   "execution_count": 12,
   "metadata": {},
   "outputs": [],
   "source": [
    "def group_interp(group_line, lines, seed):\n",
    "    \n",
    "    res = seed\n",
    "    \n",
    "    while lines[group_line] != \"\" and group_line < len(lines)-1:\n",
    "        seed = int(seed)\n",
    "        line = lines[group_line]\n",
    "        split_line = [int(i) for i in line.split(\" \")]\n",
    "        \n",
    "        if seed in range(split_line[1], split_line[1] + split_line[2]):\n",
    "            seed_diff = split_line[1] - split_line[0]\n",
    "            res = seed - seed_diff \n",
    "            \n",
    "        group_line += 1 \n",
    "    \n",
    "    return res"
   ]
  },
  {
   "cell_type": "code",
   "execution_count": 29,
   "metadata": {},
   "outputs": [],
   "source": [
    "seed_dic = {}\n",
    "\n",
    "maps_list = [   'seed-to-soil map:', \n",
    "                'soil-to-fertilizer map:', \n",
    "                'fertilizer-to-water map:',  \n",
    "                'water-to-light map:', \n",
    "                'light-to-temperature map:', \n",
    "                'temperature-to-humidity map:', \n",
    "                'humidity-to-location map:']\n",
    "\n",
    "seeds = lines[0].split(\" \")[1:]\n",
    "    \n",
    "for seed in seeds:\n",
    "    next = group_interp(lines.index(maps_list[0]) +1 , lines, seed)\n",
    "    \n",
    "    for group in maps_list[1:]:\n",
    "        group_line_idx = lines.index(group) + 1\n",
    "        next = group_interp(group_line_idx, lines, next)\n",
    "        \n",
    "    seed_dic[seed] = next"
   ]
  },
  {
   "cell_type": "code",
   "execution_count": 30,
   "metadata": {},
   "outputs": [
    {
     "data": {
      "text/plain": [
       "35"
      ]
     },
     "execution_count": 30,
     "metadata": {},
     "output_type": "execute_result"
    }
   ],
   "source": [
    "min(seed_dic.values())"
   ]
  },
  {
   "cell_type": "markdown",
   "metadata": {},
   "source": [
    "5.2 - TOO SLOW"
   ]
  },
  {
   "cell_type": "code",
   "execution_count": 36,
   "metadata": {},
   "outputs": [
    {
     "ename": "KeyboardInterrupt",
     "evalue": "",
     "output_type": "error",
     "traceback": [
      "\u001b[1;31m---------------------------------------------------------------------------\u001b[0m",
      "\u001b[1;31mKeyboardInterrupt\u001b[0m                         Traceback (most recent call last)",
      "Cell \u001b[1;32mIn[36], line 21\u001b[0m\n\u001b[0;32m     19\u001b[0m \u001b[38;5;28;01mfor\u001b[39;00m group \u001b[38;5;129;01min\u001b[39;00m maps_list[\u001b[38;5;241m1\u001b[39m:]:\n\u001b[0;32m     20\u001b[0m     group_line_idx \u001b[38;5;241m=\u001b[39m lines\u001b[38;5;241m.\u001b[39mindex(group) \u001b[38;5;241m+\u001b[39m \u001b[38;5;241m1\u001b[39m\n\u001b[1;32m---> 21\u001b[0m     \u001b[38;5;28mnext\u001b[39m \u001b[38;5;241m=\u001b[39m \u001b[43mgroup_interp\u001b[49m\u001b[43m(\u001b[49m\u001b[43mgroup_line_idx\u001b[49m\u001b[43m,\u001b[49m\u001b[43m \u001b[49m\u001b[43mlines\u001b[49m\u001b[43m,\u001b[49m\u001b[43m \u001b[49m\u001b[38;5;28;43mnext\u001b[39;49m\u001b[43m)\u001b[49m\n\u001b[0;32m     23\u001b[0m seed_dic[seed] \u001b[38;5;241m=\u001b[39m \u001b[38;5;28mnext\u001b[39m\n",
      "Cell \u001b[1;32mIn[35], line 8\u001b[0m, in \u001b[0;36mgroup_interp\u001b[1;34m(group_line, lines, seed)\u001b[0m\n\u001b[0;32m      6\u001b[0m seed \u001b[38;5;241m=\u001b[39m \u001b[38;5;28mint\u001b[39m(seed)\n\u001b[0;32m      7\u001b[0m line \u001b[38;5;241m=\u001b[39m lines[group_line]\n\u001b[1;32m----> 8\u001b[0m split_line \u001b[38;5;241m=\u001b[39m \u001b[43m[\u001b[49m\u001b[38;5;28;43mint\u001b[39;49m\u001b[43m(\u001b[49m\u001b[43mi\u001b[49m\u001b[43m)\u001b[49m\u001b[43m \u001b[49m\u001b[38;5;28;43;01mfor\u001b[39;49;00m\u001b[43m \u001b[49m\u001b[43mi\u001b[49m\u001b[43m \u001b[49m\u001b[38;5;129;43;01min\u001b[39;49;00m\u001b[43m \u001b[49m\u001b[43mline\u001b[49m\u001b[38;5;241;43m.\u001b[39;49m\u001b[43msplit\u001b[49m\u001b[43m(\u001b[49m\u001b[38;5;124;43m\"\u001b[39;49m\u001b[38;5;124;43m \u001b[39;49m\u001b[38;5;124;43m\"\u001b[39;49m\u001b[43m)\u001b[49m\u001b[43m]\u001b[49m\n\u001b[0;32m     10\u001b[0m \u001b[38;5;28;01mif\u001b[39;00m split_line[\u001b[38;5;241m1\u001b[39m] \u001b[38;5;241m<\u001b[39m\u001b[38;5;241m=\u001b[39m seed \u001b[38;5;241m<\u001b[39m split_line[\u001b[38;5;241m1\u001b[39m] \u001b[38;5;241m+\u001b[39m split_line[\u001b[38;5;241m2\u001b[39m]:\n\u001b[0;32m     11\u001b[0m     seed_diff \u001b[38;5;241m=\u001b[39m split_line[\u001b[38;5;241m1\u001b[39m] \u001b[38;5;241m-\u001b[39m split_line[\u001b[38;5;241m0\u001b[39m]\n",
      "Cell \u001b[1;32mIn[35], line 8\u001b[0m, in \u001b[0;36m<listcomp>\u001b[1;34m(.0)\u001b[0m\n\u001b[0;32m      6\u001b[0m seed \u001b[38;5;241m=\u001b[39m \u001b[38;5;28mint\u001b[39m(seed)\n\u001b[0;32m      7\u001b[0m line \u001b[38;5;241m=\u001b[39m lines[group_line]\n\u001b[1;32m----> 8\u001b[0m split_line \u001b[38;5;241m=\u001b[39m [\u001b[38;5;28mint\u001b[39m(i) \u001b[38;5;28;01mfor\u001b[39;00m i \u001b[38;5;129;01min\u001b[39;00m line\u001b[38;5;241m.\u001b[39msplit(\u001b[38;5;124m\"\u001b[39m\u001b[38;5;124m \u001b[39m\u001b[38;5;124m\"\u001b[39m)]\n\u001b[0;32m     10\u001b[0m \u001b[38;5;28;01mif\u001b[39;00m split_line[\u001b[38;5;241m1\u001b[39m] \u001b[38;5;241m<\u001b[39m\u001b[38;5;241m=\u001b[39m seed \u001b[38;5;241m<\u001b[39m split_line[\u001b[38;5;241m1\u001b[39m] \u001b[38;5;241m+\u001b[39m split_line[\u001b[38;5;241m2\u001b[39m]:\n\u001b[0;32m     11\u001b[0m     seed_diff \u001b[38;5;241m=\u001b[39m split_line[\u001b[38;5;241m1\u001b[39m] \u001b[38;5;241m-\u001b[39m split_line[\u001b[38;5;241m0\u001b[39m]\n",
      "\u001b[1;31mKeyboardInterrupt\u001b[0m: "
     ]
    }
   ],
   "source": [
    "seed_dic = {}\n",
    "seeds = []\n",
    "\n",
    "maps_list = [   'seed-to-soil map:', \n",
    "                'soil-to-fertilizer map:', \n",
    "                'fertilizer-to-water map:',  \n",
    "                'water-to-light map:', \n",
    "                'light-to-temperature map:', \n",
    "                'temperature-to-humidity map:', \n",
    "                'humidity-to-location map:']\n",
    "\n",
    "for seed, seed_range in zip(lines[0].split(\" \")[1::2], lines[0].split(\" \")[2::2]):\n",
    "    seeds.append(range(int(seed), int(seed) + int(seed_range)))\n",
    "\n",
    "for seed_range in seeds:\n",
    "    for seed in seed_range:\n",
    "        next = group_interp(lines.index(maps_list[0]) +1 , lines, seed)\n",
    "    \n",
    "        for group in maps_list[1:]:\n",
    "            group_line_idx = lines.index(group) + 1\n",
    "            next = group_interp(group_line_idx, lines, next)\n",
    "            \n",
    "        seed_dic[seed] = next"
   ]
  },
  {
   "cell_type": "code",
   "execution_count": null,
   "metadata": {},
   "outputs": [
    {
     "data": {
      "text/plain": [
       "46"
      ]
     },
     "execution_count": 32,
     "metadata": {},
     "output_type": "execute_result"
    }
   ],
   "source": [
    "min(seed_dic.values())"
   ]
  },
  {
   "cell_type": "code",
   "execution_count": 35,
   "metadata": {},
   "outputs": [],
   "source": [
    "def group_interp(group_line, lines, seed):\n",
    "    \n",
    "    res = seed\n",
    "    \n",
    "    while lines[group_line] != \"\" and group_line < len(lines)-1:\n",
    "        seed = int(seed)\n",
    "        line = lines[group_line]\n",
    "        split_line = [int(i) for i in line.split(\" \")]\n",
    "        \n",
    "        if split_line[1] <= seed < split_line[1] + split_line[2]:\n",
    "            seed_diff = split_line[1] - split_line[0]\n",
    "            res = seed - seed_diff \n",
    "            \n",
    "        group_line += 1 \n",
    "    \n",
    "    return res"
   ]
  },
  {
   "cell_type": "markdown",
   "metadata": {},
   "source": [
    "6.1 - Working"
   ]
  },
  {
   "cell_type": "code",
   "execution_count": 22,
   "metadata": {},
   "outputs": [],
   "source": [
    "with open('inputs/6_input.txt') as f:\n",
    "    lines = f.read().splitlines()"
   ]
  },
  {
   "cell_type": "code",
   "execution_count": 28,
   "metadata": {},
   "outputs": [],
   "source": [
    "def product_of_list(lst):\n",
    "    product = 1\n",
    "    for num in lst:\n",
    "        product *= num\n",
    "    return product"
   ]
  },
  {
   "cell_type": "code",
   "execution_count": 29,
   "metadata": {},
   "outputs": [],
   "source": [
    "times = lines[0].split(\":\")[1].split()\n",
    "distances = lines[1].split(\":\")[1].split()\n",
    "\n",
    "total_wins = []\n",
    "for time, distance in zip(times,distances):\n",
    "    n_wins = 0\n",
    "    for i in range(1,int(time)+1):\n",
    "        delta_t = int(time) - i\n",
    "        how_far = delta_t * i\n",
    "        if how_far > int(distance):\n",
    "            n_wins += 1\n",
    "    total_wins.append(n_wins)\n",
    "        "
   ]
  },
  {
   "cell_type": "code",
   "execution_count": 30,
   "metadata": {},
   "outputs": [
    {
     "data": {
      "text/plain": [
       "741000"
      ]
     },
     "execution_count": 30,
     "metadata": {},
     "output_type": "execute_result"
    }
   ],
   "source": [
    "res = product_of_list(total_wins)\n",
    "res"
   ]
  },
  {
   "cell_type": "markdown",
   "metadata": {},
   "source": [
    "6.2"
   ]
  },
  {
   "cell_type": "code",
   "execution_count": 31,
   "metadata": {},
   "outputs": [],
   "source": [
    "with open('inputs/6_input.txt') as f:\n",
    "    lines = f.read().splitlines()\n",
    "    \n",
    "time = lines[0].split(\":\")[1].replace(\" \",\"\")\n",
    "distance = lines[1].split(\":\")[1].replace(\" \",\"\")"
   ]
  },
  {
   "cell_type": "markdown",
   "metadata": {},
   "source": [
    "eq: x(time-x) > distance => roots"
   ]
  },
  {
   "cell_type": "code",
   "execution_count": 42,
   "metadata": {},
   "outputs": [
    {
     "data": {
      "text/plain": [
       "38220708"
      ]
     },
     "execution_count": 42,
     "metadata": {},
     "output_type": "execute_result"
    }
   ],
   "source": [
    "root1 = 43034087\n",
    "root2 = 4813380\n",
    "\n",
    "total_wins = root1 - root2 + 1\n",
    "total_wins"
   ]
  },
  {
   "cell_type": "markdown",
   "metadata": {},
   "source": [
    "7.1"
   ]
  },
  {
   "cell_type": "markdown",
   "metadata": {},
   "source": []
  }
 ],
 "metadata": {
  "kernelspec": {
   "display_name": "Python 3",
   "language": "python",
   "name": "python3"
  },
  "language_info": {
   "codemirror_mode": {
    "name": "ipython",
    "version": 3
   },
   "file_extension": ".py",
   "mimetype": "text/x-python",
   "name": "python",
   "nbconvert_exporter": "python",
   "pygments_lexer": "ipython3",
   "version": "3.11.7"
  }
 },
 "nbformat": 4,
 "nbformat_minor": 2
}

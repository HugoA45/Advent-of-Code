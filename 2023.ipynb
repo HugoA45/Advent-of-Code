{
 "cells": [
  {
   "cell_type": "markdown",
   "metadata": {},
   "source": [
    "1."
   ]
  },
  {
   "cell_type": "code",
   "execution_count": null,
   "metadata": {},
   "outputs": [],
   "source": [
    "with open('1_input.txt') as f:\n",
    "    lines = f.read().splitlines()"
   ]
  },
  {
   "cell_type": "code",
   "execution_count": null,
   "metadata": {},
   "outputs": [],
   "source": [
    "output = 0\n",
    "for line in lines:\n",
    "    aux = []\n",
    "    for element in line:\n",
    "        if str(element).isnumeric():\n",
    "            aux.append(int(element))\n",
    "    output += int(str(aux[0])+str(aux[-1]))\n",
    "output"
   ]
  },
  {
   "cell_type": "markdown",
   "metadata": {},
   "source": [
    "1.2"
   ]
  },
  {
   "cell_type": "code",
   "execution_count": null,
   "metadata": {},
   "outputs": [],
   "source": [
    "a = ['two1nine',\n",
    " 'eightwothree',\n",
    " 'abcone2threexyz',\n",
    " 'xtwone3four',\n",
    " '4nineeightseven2',\n",
    " 'zoneight234',\n",
    " '7pqrstsixteen']"
   ]
  },
  {
   "cell_type": "code",
   "execution_count": null,
   "metadata": {},
   "outputs": [],
   "source": [
    "output = 0\n",
    "dig_dic = { 'one': 1,\n",
    "            'two': 2,\n",
    "            'three': 3,\n",
    "            'four': 4,\n",
    "            'five': 5,\n",
    "            'six': 6,\n",
    "            'seven': 7,\n",
    "            'eight': 8,\n",
    "            'nine': 9}\n",
    "\n",
    "for line in a:\n",
    "    word_dict = {}\n",
    "    \n",
    "    for word in dig_dic.keys():\n",
    "        if word in line:\n",
    "            w_str_index = line.find(word)\n",
    "            w_end_index = w_str_index + len(word) - 1\n",
    "            word_dict[word] = w_str_index\n",
    "    \n",
    "    print(word_dict)\n",
    "    \n",
    "    aux = [int(element) for element in line if element.isnumeric()]\n",
    "    \n",
    "    if aux: \n",
    "        output += int(str(aux[0])+str(aux[-1]))\n",
    "        "
   ]
  },
  {
   "cell_type": "code",
   "execution_count": null,
   "metadata": {},
   "outputs": [],
   "source": [
    "word_dict"
   ]
  },
  {
   "cell_type": "markdown",
   "metadata": {},
   "source": [
    "2.1"
   ]
  },
  {
   "cell_type": "code",
   "execution_count": null,
   "metadata": {},
   "outputs": [],
   "source": [
    "with open('2_input.txt') as f:\n",
    "    lines = f.read().splitlines()\n",
    "    \n",
    "game_dict = {i : [line.split(\": \") for line in lines][i][1].split(\"; \") for i in range(len(lines))}\n",
    "\n",
    "\n",
    "ver_dict = {\n",
    "    'red' : 12,\n",
    "    'green' : 13,\n",
    "    'blue' : 14,\n",
    "}\n",
    "\n",
    "total_sum = 0\n",
    "for key, game_sets in enumerate(game_dict.values(), start=1):\n",
    "    var_sum = 0\n",
    "    for set in game_sets:       \n",
    "        for element in set.split(\", \"):\n",
    "            if int(element.split(\" \")[0]) > ver_dict[element.split(\" \")[1]]:\n",
    "                var_sum += 1\n",
    "    if var_sum == 0:\n",
    "        total_sum += key\n",
    "        \n",
    "print(total_sum)"
   ]
  },
  {
   "cell_type": "markdown",
   "metadata": {},
   "source": [
    "2.2"
   ]
  },
  {
   "cell_type": "code",
   "execution_count": null,
   "metadata": {},
   "outputs": [],
   "source": [
    "color_dic = {}\n",
    "for key, game_sets in enumerate(game_dict.values(), start=1):\n",
    "    max_red = 0\n",
    "    max_blue = 0\n",
    "    max_green = 0\n",
    "    for set in game_sets:       \n",
    "        for element in set.split(\", \"):\n",
    "            if element.split(\" \")[1] == 'red' and int(element.split(\" \")[0])> max_red:\n",
    "                max_red = int(element.split(\" \")[0])\n",
    "            if element.split(\" \")[1] == 'blue' and int(element.split(\" \")[0])> max_blue:\n",
    "                max_blue = int(element.split(\" \")[0])\n",
    "            if element.split(\" \")[1] == 'green' and int(element.split(\" \")[0])> max_green:\n",
    "                max_green = int(element.split(\" \")[0])\n",
    "    color_dic[key] = [max_red, max_green, max_blue]\n",
    "\n",
    "power = {key:color_dic[key][0]*color_dic[key][1]*color_dic[key][2] for key in color_dic.keys()}\n",
    "sum(power.values())"
   ]
  },
  {
   "cell_type": "markdown",
   "metadata": {},
   "source": [
    "3.1"
   ]
  },
  {
   "cell_type": "code",
   "execution_count": 57,
   "metadata": {},
   "outputs": [],
   "source": [
    "import string\n",
    "\n",
    "symbols = {char for char in string.printable if not (char.isalpha() or char.isdigit())}\n",
    "\n",
    "with open('3_example.txt') as f:\n",
    "    lines = f.read().splitlines()"
   ]
  },
  {
   "cell_type": "code",
   "execution_count": 58,
   "metadata": {},
   "outputs": [],
   "source": [
    "numeric_coord = set()\n",
    "numeric_elements = []\n",
    "for line_id, line in enumerate(lines):\n",
    "    for col_id, element in enumerate(line):\n",
    "        if element != '.' and element in symbols:\n",
    "            for i in range(-1,2):\n",
    "                for j in range(-1,2):\n",
    "                    if i == 0 and j == 0:\n",
    "                        continue\n",
    "                    if 0 <= line_id+i < len(lines) and \\\n",
    "                        0 <= col_id+j < len(lines[line_id+i]):\n",
    "                        if lines[line_id+i][col_id+j].isnumeric():\n",
    "                            numeric_coord.add((line_id+i, col_id+j))\n",
    "\n",
    "for element in numeric_coord.copy():\n",
    "    y, x = element\n",
    "    i = 1\n",
    "    while (lines[y][x-i].isnumeric() or lines[y][x-i] == '-') and x-i >= 0 and (y,x-i) not in numeric_coord:\n",
    "        numeric_coord.add((y,x-i))\n",
    "        i += 1\n",
    "    i = 1\n",
    "    while lines[y][x+i].isnumeric() and x+i < len(lines[y])-1 and (y,x+i) not in numeric_coord:\n",
    "        numeric_coord.add((y,x+i))\n",
    "        i += 1"
   ]
  },
  {
   "cell_type": "code",
   "execution_count": 59,
   "metadata": {},
   "outputs": [
    {
     "data": {
      "text/plain": [
       "4361"
      ]
     },
     "execution_count": 59,
     "metadata": {},
     "output_type": "execute_result"
    }
   ],
   "source": [
    "numeric_coord = sorted(list(numeric_coord))\n",
    "groups = []\n",
    "current_group = [numeric_coord[0]]\n",
    "\n",
    "for coord in numeric_coord[1:]:\n",
    "    if coord[0] == current_group[-1][0] and coord[1] == current_group[-1][1] + 1:\n",
    "        current_group.append(coord)\n",
    "    else:\n",
    "        groups.append(current_group)\n",
    "        current_group = [coord]\n",
    "\n",
    "groups.append(current_group)\n",
    "\n",
    "numeric_elements = []\n",
    "for group in groups:\n",
    "    number = ''.join(lines[y][x] for y, x in group)\n",
    "    numeric_elements.append(int(number))\n",
    "    \n",
    "sum(numeric_elements)"
   ]
  },
  {
   "cell_type": "code",
   "execution_count": null,
   "metadata": {},
   "outputs": [],
   "source": []
  }
 ],
 "metadata": {
  "kernelspec": {
   "display_name": "Python 3",
   "language": "python",
   "name": "python3"
  },
  "language_info": {
   "codemirror_mode": {
    "name": "ipython",
    "version": 3
   },
   "file_extension": ".py",
   "mimetype": "text/x-python",
   "name": "python",
   "nbconvert_exporter": "python",
   "pygments_lexer": "ipython3",
   "version": "3.11.7"
  }
 },
 "nbformat": 4,
 "nbformat_minor": 2
}
